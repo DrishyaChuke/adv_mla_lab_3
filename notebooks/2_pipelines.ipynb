{
 "cells": [
  {
   "cell_type": "code",
   "execution_count": 1,
   "id": "053299a1-96ec-44fe-850d-df5fcc530e74",
   "metadata": {},
   "outputs": [],
   "source": [
    "%load_ext autoreload\n",
    "%autoreload 2"
   ]
  },
  {
   "cell_type": "code",
   "execution_count": 2,
   "id": "5de19ddd-aded-49ec-8ae6-e857998a7bef",
   "metadata": {},
   "outputs": [],
   "source": [
    "import pandas as pd\n",
    "import numpy as np"
   ]
  },
  {
   "cell_type": "code",
   "execution_count": 3,
   "id": "fe5879cf-8378-4ee5-b89c-94764717a776",
   "metadata": {},
   "outputs": [],
   "source": [
    "df = pd.read_csv('../data/raw/archive.zip')"
   ]
  },
  {
   "cell_type": "code",
   "execution_count": 4,
   "id": "69e45d72-a3ef-4c35-9f18-59d0b2cfb49d",
   "metadata": {},
   "outputs": [],
   "source": [
    "df_cleaned = df.copy()"
   ]
  },
  {
   "cell_type": "code",
   "execution_count": 5,
   "id": "4ab1d5f3-ba8d-4c03-9e1f-ec2b289f1d08",
   "metadata": {},
   "outputs": [],
   "source": [
    "from sklearn.pipeline import Pipeline\n",
    "from sklearn.preprocessing import StandardScaler, OneHotEncoder, OrdinalEncoder\n",
    "from sklearn.linear_model import SGDClassifier"
   ]
  },
  {
   "cell_type": "code",
   "execution_count": 6,
   "id": "691cf8de-fab2-46f3-a0e0-b880ae349c71",
   "metadata": {},
   "outputs": [],
   "source": [
    "num_transformer = Pipeline(\n",
    "    steps=[\n",
    "        ('scaler', StandardScaler())\n",
    "    ]\n",
    ")"
   ]
  },
  {
   "cell_type": "code",
   "execution_count": 7,
   "id": "cef722ae-f0e9-41ff-9b1f-54dd3b985926",
   "metadata": {},
   "outputs": [],
   "source": [
    "cat_transformer = Pipeline(\n",
    "    steps=[\n",
    "        ('one_hot_encoder', OneHotEncoder(sparse_output=False, drop='first'))\n",
    "    ]\n",
    ")"
   ]
  },
  {
   "cell_type": "code",
   "execution_count": 8,
   "id": "f7b2c982-b3d7-497c-b064-1817877ae020",
   "metadata": {},
   "outputs": [],
   "source": [
    "age_ord_transformer = Pipeline(\n",
    "    steps=[\n",
    "        ('ordinal_encoder', OrdinalEncoder())\n",
    "    ]\n",
    ")"
   ]
  },
  {
   "cell_type": "code",
   "execution_count": 9,
   "id": "9e516295-616f-4e55-a1df-c124073b8b4e",
   "metadata": {},
   "outputs": [],
   "source": [
    "health_ord_transformer = Pipeline(\n",
    "    steps=[\n",
    "        ('ordinal_encoder', OrdinalEncoder(categories=[['Poor','Fair','Good','Very Good','Excellent']]))\n",
    "    ]\n",
    ")"
   ]
  },
  {
   "cell_type": "code",
   "execution_count": 10,
   "id": "aad386c6-03e9-4aa4-ad56-01b27e6ae5a3",
   "metadata": {},
   "outputs": [],
   "source": [
    "checkup_ord_transformer = Pipeline(\n",
    "    steps=[\n",
    "        ('ordinal_encoder', OrdinalEncoder(categories=[['Within the past year','Within the past 2 years','Within the past 5 years','5 or more years ago','Never']]))\n",
    "    ]\n",
    ")"
   ]
  },
  {
   "cell_type": "code",
   "execution_count": 11,
   "id": "d0a9514e-bc07-4cae-976b-dc46a1371fb6",
   "metadata": {},
   "outputs": [],
   "source": [
    "num_cols = df_cleaned.select_dtypes(include=['float64']).columns"
   ]
  },
  {
   "cell_type": "code",
   "execution_count": 12,
   "id": "d67f59ef-49f5-4153-be9f-b3e9dcde50fc",
   "metadata": {},
   "outputs": [],
   "source": [
    "cat_cols = ['Arthritis', 'Depression', 'Diabetes', 'Exercise', 'Other_Cancer', 'Sex', 'Skin_Cancer', 'Smoking_History']"
   ]
  },
  {
   "cell_type": "code",
   "execution_count": 13,
   "id": "1714e35b-f44f-4b37-96f2-a1afc86cafcf",
   "metadata": {},
   "outputs": [],
   "source": [
    "from sklearn.compose import ColumnTransformer"
   ]
  },
  {
   "cell_type": "code",
   "execution_count": null,
   "id": "7db01385-c3df-494a-8c22-1bf976793a60",
   "metadata": {},
   "outputs": [],
   "source": []
  }
 ],
 "metadata": {
  "kernelspec": {
   "display_name": "Python 3 (ipykernel)",
   "language": "python",
   "name": "python3"
  },
  "language_info": {
   "codemirror_mode": {
    "name": "ipython",
    "version": 3
   },
   "file_extension": ".py",
   "mimetype": "text/x-python",
   "name": "python",
   "nbconvert_exporter": "python",
   "pygments_lexer": "ipython3",
   "version": "3.11.3"
  }
 },
 "nbformat": 4,
 "nbformat_minor": 5
}
